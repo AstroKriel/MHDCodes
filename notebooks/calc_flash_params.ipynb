{
 "cells": [
  {
   "cell_type": "code",
   "execution_count": 1,
   "metadata": {},
   "outputs": [],
   "source": [
    "import numpy as np\n",
    "from math import sqrt"
   ]
  },
  {
   "cell_type": "code",
   "execution_count": 1,
   "metadata": {},
   "outputs": [
    {
     "name": "stdout",
     "output_type": "stream",
     "text": [
      "Pm         Re         Rm           Mach       t_eddy       nu         eta          k_nu       k_eta\n",
      "1.000e+00  5.000e+02  5.000e+02    5.000e+00  1.000e-01    5.000e-03  5.000e-03    2.520e+00  2.520e+00\n",
      "2.000e+00  5.000e+02  1.000e+03    5.000e+00  1.000e-01    5.000e-03  2.500e-03    2.520e+00  3.564e+00\n",
      "4.000e+00  5.000e+02  2.000e+03    5.000e+00  1.000e-01    5.000e-03  1.250e-03    2.520e+00  5.040e+00\n"
     ]
    }
   ],
   "source": [
    "print(\"Pm         Re         Rm           Mach       t_eddy       nu         eta          k_nu       k_eta\")\n",
    "for Pm in [1, 2, 4]:\n",
    "    #################################\n",
    "    ## SET DESIRED PARAMETERS\n",
    "    #################################\n",
    "    k_0 = 2 # driving scale\n",
    "    rms_Mach = 5 # rms Mach\n",
    "\n",
    "    ## fixed Re\n",
    "    Re = 500 # kinematic Reynolds number\n",
    "    Rm = Pm * Re # magnetic Reynolds number\n",
    "\n",
    "    # ## fixed Rm\n",
    "    # Rm = 10 # kinematic Reynolds number\n",
    "    # Re = Rm / Pm # magnetic Reynolds number\n",
    "\n",
    "    #################################\n",
    "    ## CALCULATE OUTPUT\n",
    "    #################################\n",
    "    ## eddy turnover time: L / (c_s * Mach)\n",
    "    t_eddy = 1/k_0 * 1/(rms_Mach)\n",
    "\n",
    "    ## viscous scale\n",
    "    if rms_Mach > 1: k_nu  = k_0 * Re**(2/3) # super sonic (B48)\n",
    "    else: k_nu  = k_0 * Re**(3/4) # sub-sonic (K41)\n",
    "    ## resistive scale\n",
    "    k_eta = k_nu * Pm**(1/2)\n",
    "\n",
    "    ## calculate FLASH.par parameters \n",
    "    nu  = 1/float(k_0) * float(rms_Mach) / float(Re) # l_0 * Mach * cs / Re\n",
    "    eta = nu / Pm\n",
    "\n",
    "    #################################\n",
    "    ## PRINT PARAMETERS\n",
    "    #################################\n",
    "    print(\"{:.3e}  {:.3e}  {:.3e}    {:.3e}  {:.3e}    {:.3e}  {:.3e}    {:.3e}  {:.3e}\".format(\n",
    "        Pm, Re, Rm,\n",
    "        rms_Mach, t_eddy,\n",
    "        nu, eta,\n",
    "        0.02 * k_nu, 0.02 * k_eta\n",
    "    ))\n"
   ]
  },
  {
   "cell_type": "code",
   "execution_count": null,
   "metadata": {},
   "outputs": [],
   "source": []
  }
 ],
 "metadata": {
  "interpreter": {
   "hash": "c548f1c6a2fe92e4f90d2e35532340f7cb0b8573bacaac35df0b0aedfb4351f2"
  },
  "kernelspec": {
   "display_name": "Python 3.7.7 64-bit ('3.7.7': pyenv)",
   "name": "python3"
  },
  "language_info": {
   "codemirror_mode": {
    "name": "ipython",
    "version": 3
   },
   "file_extension": ".py",
   "mimetype": "text/x-python",
   "name": "python",
   "nbconvert_exporter": "python",
   "pygments_lexer": "ipython3",
   "version": "3.7.7"
  },
  "metadata": {
   "interpreter": {
    "hash": "1ee38ef4a5a9feb55287fd749643f13d043cb0a7addaab2a9c224cbe137c0062"
   }
  },
  "orig_nbformat": 2
 },
 "nbformat": 4,
 "nbformat_minor": 2
}
