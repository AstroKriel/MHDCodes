{
 "metadata": {
  "language_info": {
   "codemirror_mode": {
    "name": "ipython",
    "version": 3
   },
   "file_extension": ".py",
   "mimetype": "text/x-python",
   "name": "python",
   "nbconvert_exporter": "python",
   "pygments_lexer": "ipython3",
   "version": "3.8.5"
  },
  "orig_nbformat": 4,
  "kernelspec": {
   "name": "python3",
   "display_name": "Python 3.8.5 64-bit ('python@3.8')"
  },
  "interpreter": {
   "hash": "1ee38ef4a5a9feb55287fd749643f13d043cb0a7addaab2a9c224cbe137c0062"
  }
 },
 "nbformat": 4,
 "nbformat_minor": 2,
 "cells": [
  {
   "cell_type": "code",
   "execution_count": 20,
   "metadata": {},
   "outputs": [
    {
     "output_type": "stream",
     "name": "stdout",
     "text": [
      "All the keys stored in the FLASH file:\n\tblock size\n\tbounding box\n\tcoordinates\n\tdens\n\tgid\n\tinteger runtime parameters\n\tinteger scalars\n\tlogical runtime parameters\n\tlogical scalars\n\tmagx\n\tmagy\n\tmagz\n\tnode type\n\tprocessor number\n\treal runtime parameters\n\treal scalars\n\trefine level\n\tsim info\n\tstring runtime parameters\n\tstring scalars\n\tunknown names\n\tvelx\n\tvely\n\tvelz\nSimulation information:\n[(b'time                                                                            ', 4.0000248e+01)\n (b'dt                                                                              ', 1.7388933e-04)\n (b'dtold                                                                           ', 1.7388933e-04)\n (b'redshift                                                                        ', 0.0000000e+00)\n (b'redshiftold                                                                     ', 0.0000000e+00)\n (b'nextcheckpointtime                                                              ', 4.0000000e+01)\n (b'nextplotfiletime                                                                ', 4.0400009e+01)\n (b'nextcheckpointz                                                                 ', 3.4028235e+38)\n (b'nextplotfilez                                                                   ', 0.0000000e+00)]\n"
     ]
    }
   ],
   "source": [
    "import h5py\n",
    "import numpy as np\n",
    "\n",
    "filename = \"Turb_hdf5_plt_cnt_0100\"\n",
    "filepath_data = \"/Users/dukekriel/Documents/Projects/TurbulentDynamo/figures/\"\n",
    "\n",
    "flash_file = h5py.File(filepath_data + filename, \"r\")\n",
    "print(\"All the keys stored in the FLASH file:\\n\\t\" + \"\\n\\t\".join(list(flash_file.keys())))\n",
    "print(\"Simulation information:\")\n",
    "print(np.array(flash_file[\"real scalars\"]))\n",
    "flash_file.close() # close the file stream\n"
   ]
  },
  {
   "cell_type": "code",
   "execution_count": 21,
   "metadata": {},
   "outputs": [
    {
     "output_type": "stream",
     "name": "stdout",
     "text": [
      "All the keys stored in the FLASH file:\n\tblock size\n\tbounding box\n\tcoordinates\n\tdens\n\tgid\n\tinteger runtime parameters\n\tinteger scalars\n\tlogical runtime parameters\n\tlogical scalars\n\tmagx\n\tmagy\n\tmagz\n\tnode type\n\tprocessor number\n\treal runtime parameters\n\treal scalars\n\trefine level\n\tsim info\n\tstring runtime parameters\n\tstring scalars\n\tunknown names\n\tvelx\n\tvely\n\tvelz\nSimulation information:\n[(b'time                                                                            ', 6.0000309e+01)\n (b'dt                                                                              ', 1.7388933e-04)\n (b'dtold                                                                           ', 1.7388933e-04)\n (b'redshift                                                                        ', 0.0000000e+00)\n (b'redshiftold                                                                     ', 0.0000000e+00)\n (b'nextcheckpointtime                                                              ', 6.0000000e+01)\n (b'nextplotfiletime                                                                ', 6.0400085e+01)\n (b'nextcheckpointz                                                                 ', 3.4028235e+38)\n (b'nextplotfilez                                                                   ', 0.0000000e+00)]\n"
     ]
    }
   ],
   "source": [
    "filename = \"Turb_hdf5_plt_cnt_0150\"\n",
    "filepath_data = \"/Users/dukekriel/Documents/Projects/TurbulentDynamo/figures/\"\n",
    "\n",
    "flash_file = h5py.File(filepath_data + filename, \"r\")\n",
    "print(\"All the keys stored in the FLASH file:\\n\\t\" + \"\\n\\t\".join(list(flash_file.keys())))\n",
    "print(\"Simulation information:\")\n",
    "print(np.array(flash_file[\"real scalars\"]))\n",
    "flash_file.close() # close the file stream"
   ]
  }
 ]
}