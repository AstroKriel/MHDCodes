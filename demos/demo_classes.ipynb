{
 "metadata": {
  "language_info": {
   "codemirror_mode": {
    "name": "ipython",
    "version": 3
   },
   "file_extension": ".py",
   "mimetype": "text/x-python",
   "name": "python",
   "nbconvert_exporter": "python",
   "pygments_lexer": "ipython3",
   "version": "3.8.5"
  },
  "orig_nbformat": 4,
  "kernelspec": {
   "name": "python3",
   "display_name": "Python 3.8.5 64-bit"
  },
  "interpreter": {
   "hash": "1ee38ef4a5a9feb55287fd749643f13d043cb0a7addaab2a9c224cbe137c0062"
  }
 },
 "nbformat": 4,
 "nbformat_minor": 2,
 "cells": [
  {
   "cell_type": "code",
   "execution_count": 5,
   "source": [
    "class ParentClass():\n",
    "    def __init__(self, a, b, check=20):\n",
    "        self.check = check\n",
    "        self.a = a\n",
    "        self.b = b\n",
    "        self.c = 0\n",
    "\n",
    "class Child1Class(ParentClass):\n",
    "    def __init__(self, a, b, check):\n",
    "        ParentClass.__init__(self, a, b, check)\n",
    "    def doSomething(self):\n",
    "        self.c = self.a - self.b\n",
    "\n",
    "class Child2Class(ParentClass):\n",
    "    def doSomething(self):\n",
    "        self.c = self.a + self.b\n",
    "\n",
    "the_parent_class = ParentClass(10, 30)\n",
    "print(the_parent_class.c)\n",
    "print(the_parent_class.check)\n",
    "print(\" \")\n",
    "\n",
    "the_child_class_1 = Child1Class(10, 30, 5)\n",
    "the_child_class_1.doSomething()\n",
    "print(the_child_class_1.c)\n",
    "print(the_child_class_1.check)\n",
    "print(\" \")\n",
    "\n",
    "the_child_class_2 = Child2Class(10, 30)\n",
    "the_child_class_2.doSomething()\n",
    "print(the_child_class_2.c)\n",
    "print(the_child_class_2.check)"
   ],
   "outputs": [
    {
     "output_type": "stream",
     "name": "stdout",
     "text": [
      "0\n",
      "20\n",
      " \n",
      "-20\n",
      "5\n",
      " \n",
      "40\n",
      "20\n"
     ]
    }
   ],
   "metadata": {}
  }
 ]
}