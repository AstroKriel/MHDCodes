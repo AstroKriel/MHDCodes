{
 "metadata": {
  "language_info": {
   "codemirror_mode": {
    "name": "ipython",
    "version": 3
   },
   "file_extension": ".py",
   "mimetype": "text/x-python",
   "name": "python",
   "nbconvert_exporter": "python",
   "pygments_lexer": "ipython3",
   "version": "3.8.5"
  },
  "orig_nbformat": 4,
  "kernelspec": {
   "name": "python3",
   "display_name": "Python 3.8.5 64-bit"
  },
  "interpreter": {
   "hash": "1ee38ef4a5a9feb55287fd749643f13d043cb0a7addaab2a9c224cbe137c0062"
  }
 },
 "nbformat": 4,
 "nbformat_minor": 2,
 "cells": [
  {
   "cell_type": "code",
   "execution_count": 1,
   "source": [
    "import os\n",
    "import numpy as np\n",
    "\n",
    "from the_useful_library import *\n",
    "\n",
    "## ########################\n",
    "## DEFINE CLASS / FUNCTIONS\n",
    "## ######\n",
    "class myClass():\n",
    "    def __init__(self, a1, b1, a2, b2):\n",
    "        self.a1 = a1\n",
    "        self.b1 = b1\n",
    "        self.a2 = a2\n",
    "        self.b2 = b2\n",
    "\n",
    "def randData1():\n",
    "    a1 = np.random.randint(5, size=10)\n",
    "    b1 = np.random.randint(5, size=10)\n",
    "    args = {\"a1\":a1, \"b1\":b1}\n",
    "    return args\n",
    "\n",
    "def randData2():\n",
    "    a2 = np.random.randint(5, size=10)\n",
    "    b2 = np.random.randint(5, size=10)\n",
    "    args = {\"a2\":a2, \"b2\":b2}\n",
    "    return args\n",
    "\n",
    "\n",
    "## ################################\n",
    "## PLAYING AROUND WITH DICTIONARIES\n",
    "## ########\n",
    "args1 = randData1()\n",
    "args2 = randData2()\n",
    "\n",
    "print(\"Printing dictionary:\")\n",
    "print(args1)\n",
    "print(\" \")\n",
    "\n",
    "print(\"Printing dictionary keys:\")\n",
    "print(*args1)\n",
    "print(\" \")\n",
    "\n",
    "key_name = \"a1\"\n",
    "if key_name in args1:\n",
    "    print(\"The key '{:s}' is in the dictionary.\".format(key_name))\n",
    "else: print(\"The key '{:s}' is NOT in dictionary.\".format(key_name))\n",
    "print(\" \")\n",
    "\n",
    "\n",
    "## ###########################\n",
    "## PLAYING AROUND WITH OBJECTS\n",
    "## ######\n",
    "my_obj = myClass(**args1, **args2)\n",
    "\n",
    "print(\"Printing object attributes:\")\n",
    "printObjAttrNames(my_obj)\n",
    "print(\" \")\n",
    "\n",
    "print(\"Checking if object has attributes:\")\n",
    "print(hasattr(my_obj, 'a1'))\n",
    "print(getattr(my_obj, 'a1'))\n",
    "print(getattr(my_obj, 'a3', \"Object has no attribute 'a3'.\"))\n"
   ],
   "outputs": [
    {
     "output_type": "stream",
     "name": "stdout",
     "text": [
      "Printing dictionary:\n",
      "{'a1': array([0, 1, 3, 2, 1, 0, 3, 3, 3, 4]), 'b1': array([2, 1, 3, 1, 2, 2, 1, 4, 4, 2])}\n",
      " \n",
      "Printing dictionary keys:\n",
      "a1 b1\n",
      " \n",
      "The key 'a1' is in the dictionary.\n",
      " \n",
      "Printing object attributes:\n",
      "a1\n",
      "b1\n",
      "a2\n",
      "b2\n",
      " \n",
      "Checking if object has attributes:\n",
      "True\n",
      "[0 1 3 2 1 0 3 3 3 4]\n",
      "Object has no attribute 'a3'.\n"
     ]
    }
   ],
   "metadata": {}
  },
  {
   "cell_type": "code",
   "execution_count": null,
   "source": [],
   "outputs": [],
   "metadata": {}
  }
 ]
}