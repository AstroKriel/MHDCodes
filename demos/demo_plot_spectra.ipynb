{
 "metadata": {
  "language_info": {
   "codemirror_mode": {
    "name": "ipython",
    "version": 3
   },
   "file_extension": ".py",
   "mimetype": "text/x-python",
   "name": "python",
   "nbconvert_exporter": "python",
   "pygments_lexer": "ipython3",
   "version": "3.8.5"
  },
  "orig_nbformat": 2,
  "kernelspec": {
   "name": "python385jvsc74a57bd01ee38ef4a5a9feb55287fd749643f13d043cb0a7addaab2a9c224cbe137c0062",
   "display_name": "Python 3.8.5 64-bit ('python@3.8')"
  },
  "metadata": {
   "interpreter": {
    "hash": "1ee38ef4a5a9feb55287fd749643f13d043cb0a7addaab2a9c224cbe137c0062"
   }
  }
 },
 "nbformat": 4,
 "nbformat_minor": 2,
 "cells": [
  {
   "cell_type": "code",
   "execution_count": 2,
   "metadata": {},
   "outputs": [],
   "source": [
    "## inline figures and output\n",
    "%matplotlib inline\n",
    "## clear the workspace\n",
    "%reset -f"
   ]
  },
  {
   "cell_type": "code",
   "execution_count": 2,
   "metadata": {},
   "outputs": [
    {
     "output_type": "stream",
     "name": "stdout",
     "text": [
      "Requirement already satisfied: tqdm in /usr/local/lib/python3.8/site-packages (4.60.0)\n",
      "Requirement already satisfied: h5py in /usr/local/lib/python3.8/site-packages (3.2.1)\n",
      "Requirement already satisfied: numpy>=1.17.5; python_version == \"3.8\" in /usr/local/lib/python3.8/site-packages (from h5py) (1.19.1)\n"
     ]
    }
   ],
   "source": [
    "## install packages\n",
    "import sys\n",
    "!{sys.executable} -m pip install tqdm\n",
    "!{sys.executable} -m pip install h5py"
   ]
  },
  {
   "cell_type": "code",
   "execution_count": 3,
   "metadata": {},
   "outputs": [],
   "source": [
    "##################################################################\n",
    "## MODULES\n",
    "##################################################################\n",
    "import os\n",
    "import argparse\n",
    "import numpy as np\n",
    "import cmasher as cmr # https://cmasher.readthedocs.io/user/diverging.html\n",
    "\n",
    "from matplotlib.gridspec import GridSpec\n",
    "\n",
    "## load old user defined modules\n",
    "from the_useful_library import *\n",
    "from the_plotting_library import *\n",
    "from the_dynamo_library import *\n",
    "from the_matplotlib_styler import *"
   ]
  },
  {
   "cell_type": "code",
   "execution_count": 4,
   "metadata": {},
   "outputs": [
    {
     "output_type": "stream",
     "name": "stdout",
     "text": [
      "WARNING: Folder already exists (folder not created). \n\t/Users/dukekriel/Documents/Projects/Turbulent-Dynamo/data/vis_folder\n\n"
     ]
    }
   ],
   "source": [
    "filepath_base   = \"/Users/dukekriel/Documents/Projects/Turbulent-Dynamo/data\"\n",
    "filepath_data   = createFilePath([filepath_base, \"fixed_Rm\"])\n",
    "filepath_frames = createFilePath([filepath_base, \"vis_folder\"])\n",
    "createFolder(filepath_frames)"
   ]
  },
  {
   "source": [
    "# Functions"
   ],
   "cell_type": "markdown",
   "metadata": {}
  },
  {
   "cell_type": "code",
   "execution_count": 5,
   "metadata": {},
   "outputs": [],
   "source": [
    "def plotSpectra(\n",
    "        ax, color, time_index,\n",
    "        k, power,\n",
    "        fit_k, fit_power, scale\n",
    "    ):\n",
    "    ## plot obs spectra\n",
    "    ax.plot(k[time_index], power[time_index], color=color, ls=\"\", marker=\".\", markersize=8)\n",
    "    ## plot fitted spectra\n",
    "    ax.plot(fit_k[time_index], fit_power[time_index], color=color, linestyle=\"--\", dashes=(5, 2.5), linewidth=2)\n",
    "    ## plot measured scale\n",
    "    ax.axvline(x=scale[time_index], color=color, ls=\"-.\")\n",
    "\n",
    "def adjustFig(\n",
    "        ax, label,\n",
    "        x_min=0.5, x_max=250,\n",
    "        y_min=1e-12, y_max=10\n",
    "    ):\n",
    "    ## label axes\n",
    "    ax.set_xlabel(r\"$k$\")\n",
    "    ax.set_ylabel(r\"$\\mathcal{P}$\")\n",
    "    ## log-log axis\n",
    "    ax.set_xscale(\"log\")\n",
    "    ax.set_yscale(\"log\")\n",
    "    ax.set_xlim(x_min, x_max)\n",
    "    ax.set_ylim(y_min, y_max)\n",
    "    ## add fig-label\n",
    "    ax.text(\n",
    "        0.05, 0.95, label,\n",
    "        va=\"top\", ha=\"left\", transform=ax.transAxes, fontsize=16,\n",
    "        bbox=dict(facecolor='white', edgecolor='gray', boxstyle='round', alpha=0.85)\n",
    "    )\n",
    "\n",
    "def addLegend(ax, artists, legend_labels, colors=[\"k\"], bool_place_top=False, title=None):\n",
    "    ## check that the inputs are correct length\n",
    "    if len(artists) < len(legend_labels): artists.extend( artists[0] * len(legend_labels) )\n",
    "    if len(colors) < len(legend_labels): colors.extend( colors[0] * len(legend_labels) )\n",
    "    ## useful lists\n",
    "    list_markers   = [\"o\", \"s\", \"D\", \"^\", \"v\"] # list of marker styles\n",
    "    list_lines     = [\"-\", \"--\", \"-.\"] # list of line styles\n",
    "    legend_artists = [] # iniialise list of artists for legend\n",
    "    ## create legend artists\n",
    "    for artist, color in  zip(artists, colors):\n",
    "        if artist in list_markers: legend_artists.append( Line2D([0], [0], marker=artist,    color=color, linewidth=0) )\n",
    "        elif artist in list_lines: legend_artists.append( Line2D([0], [0], linestyle=artist, color=color, linewidth=2) )\n",
    "        else: raise Exception(\"Artist '{}' is not a valid marker- or line-style.\")\n",
    "    ## create legend\n",
    "    if bool_place_top: legend = plt.legend(\n",
    "            legend_artists, legend_labels, title=title,\n",
    "            frameon=True, loc=\"lower center\", bbox_to_anchor=(0.5, 1.0),\n",
    "            columnspacing=1.0, handletextpad=0.4,\n",
    "            facecolor=\"white\", framealpha=0.5, fontsize=14, ncol=len(legend_artists)\n",
    "        )\n",
    "    else: legend = plt.legend(\n",
    "            legend_artists, legend_labels, title=title,\n",
    "            frameon=True, loc=\"center left\", bbox_to_anchor=(1.0, 0.5),\n",
    "            labelspacing=1.2,\n",
    "            facecolor=\"white\", framealpha=0.5, fontsize=14, ncol=1\n",
    "        )\n",
    "    ## add legend\n",
    "    ax.add_artist(legend)"
   ]
  },
  {
   "source": [
    "# Plot spectra"
   ],
   "cell_type": "markdown",
   "metadata": {}
  },
  {
   "cell_type": "code",
   "execution_count": 8,
   "metadata": {},
   "outputs": [
    {
     "output_type": "stream",
     "name": "stdout",
     "text": [
      "Plotting spectra...\n",
      "\t> Loading: /Users/dukekriel/Documents/Projects/Turbulent-Dynamo/data/fixed_Rm/72/Pm125/spectra_obj.pkl\n",
      "\t> Loading: /Users/dukekriel/Documents/Projects/Turbulent-Dynamo/data/fixed_Rm/144/Pm125/spectra_obj.pkl\n",
      "\t> Loading: /Users/dukekriel/Documents/Projects/Turbulent-Dynamo/data/fixed_Rm/288/Pm125/spectra_obj.pkl\n",
      "\t> Loading: /Users/dukekriel/Documents/Projects/Turbulent-Dynamo/data/fixed_Rm/576/Pm125/spectra_obj.pkl\n",
      "Labeling figure...\n",
      "Saving figure...\n",
      "\t> Figure saved: /Users/dukekriel/Documents/Projects/Turbulent-Dynamo/data/vis_folder/Pm125_spectra_res.pdf\n"
     ]
    }
   ],
   "source": [
    "## initialise side-by-side figure\n",
    "fig = plt.figure(figsize=(10,4), constrained_layout=True, dpi=200)\n",
    "fig_grids = GridSpec(ncols=2, nrows=1, figure=fig)\n",
    "ax0 = fig.add_subplot(fig_grids[0])\n",
    "ax1 = fig.add_subplot(fig_grids[1])\n",
    "## plot spectra\n",
    "sim_folder = \"Pm125\"\n",
    "list_res = [72, 144, 288, 576]\n",
    "time_index = 50\n",
    "## extract colours from Cmasher's colormap\n",
    "num_cols = len(list_res)\n",
    "cmasher_colormap = plt.get_cmap(\"cmr.tropical\", num_cols)\n",
    "my_colormap = cmasher_colormap(np.linspace(0, 1, num_cols))\n",
    "print(\"Plotting spectra...\")\n",
    "for res, plot_index in zip(list_res, range(len(list_res))):\n",
    "    ## ####################\n",
    "    ## LOAD SPECTRA OBJECT\n",
    "    ## ####################\n",
    "    ## if the file exists, then read it in\n",
    "    filename = createFilePath([filepath_data, str(res), sim_folder, \"spectra_obj.pkl\"])\n",
    "    print(\"\\t> Loading: \" + filename)\n",
    "    if os.path.isfile(filename):\n",
    "        with open(filename, \"rb\") as input:\n",
    "            spectra_obj = pickle.load(input)\n",
    "    else: raise Exception(\"\\t\\t> No spectra object found.\")\n",
    "    ## ####################\n",
    "    ## PLOT SPECTRA\n",
    "    ## ####################\n",
    "    plotSpectra(\n",
    "        ax         = ax0,\n",
    "        color      = my_colormap[plot_index],\n",
    "        time_index = time_index,\n",
    "        k          = spectra_obj.vel_k,\n",
    "        power      = spectra_obj.vel_power,\n",
    "        fit_k      = spectra_obj.vel_fit_k,\n",
    "        fit_power  = spectra_obj.vel_fit_power,\n",
    "        scale      = spectra_obj.k_nu\n",
    "    )\n",
    "    plotSpectra(\n",
    "        ax         = ax1,\n",
    "        color      = my_colormap[plot_index],\n",
    "        time_index = time_index,\n",
    "        k          = spectra_obj.mag_k,\n",
    "        power      = spectra_obj.mag_power,\n",
    "        fit_k      = spectra_obj.mag_fit_k,\n",
    "        fit_power  = spectra_obj.mag_fit_power,\n",
    "        scale      = spectra_obj.k_eta\n",
    "    )\n",
    "print(\"Labeling figure...\")\n",
    "adjustFig(ax0, \"vel-spectra\", y_min=10**(-12) ,y_max=10)\n",
    "adjustFig(ax1, \"mag-spectra\", y_min=10**(-13) ,y_max=10**(-4))\n",
    "addLegend(\n",
    "    ax             = ax1,\n",
    "    title          = sim_folder,\n",
    "    artists        = [\"o\", \"--\", \"-.\"],\n",
    "    colors         = [\"k\"],\n",
    "    legend_labels  = [\"spectra data\", \"spectra fits\", r\"$k_\\nu$ or $k_\\eta$\"],\n",
    "    bool_place_top = False\n",
    ")\n",
    "addLegend(\n",
    "    ax             = ax1,\n",
    "    artists        = [\"-\"],\n",
    "    colors         = my_colormap[:num_cols],\n",
    "    legend_labels  = [ r\"${}^3$\".format(str(res)) for res in list_res ],\n",
    "    bool_place_top = True\n",
    ")\n",
    "## save plot\n",
    "print(\"Saving figure...\")\n",
    "name_fig = createFilePath([filepath_frames, sim_folder+\"_spectra_res.pdf\"])\n",
    "plt.savefig(name_fig)\n",
    "print(\"\\t> Figure saved: \" + name_fig)\n",
    "## close plot\n",
    "plt.close(fig)"
   ]
  },
  {
   "cell_type": "code",
   "execution_count": null,
   "metadata": {},
   "outputs": [],
   "source": []
  }
 ]
}